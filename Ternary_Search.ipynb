{
  "nbformat": 4,
  "nbformat_minor": 0,
  "metadata": {
    "colab": {
      "provenance": []
    },
    "kernelspec": {
      "name": "python3",
      "display_name": "Python 3"
    },
    "language_info": {
      "name": "python"
    }
  },
  "cells": [
    {
      "cell_type": "markdown",
      "source": [
        "## Ternary Search"
      ],
      "metadata": {
        "id": "fMH6_CdDk5lM"
      }
    },
    {
      "cell_type": "code",
      "source": [
        "import numpy as np\n",
        "import math\n",
        "\n",
        "\n",
        "def attempting_insertion_using_ternary_search(alpha,delta,n,m,user_samples):\n",
        "    \"\"\"\n",
        "    Perform the localization phase of DAME using a private ternary search.\n",
        "\n",
        "    This procedure partitions the interval [-1, 1] into three segments at each iteration,\n",
        "    uses randomized response to privately count how many user sample-means fall into the\n",
        "    left and right thirds, and discards the less-likely segment. It repeats until all groups\n",
        "    are exhausted, returning the remaining interval.\n",
        "\n",
        "    Parameters:\n",
        "    ----------\n",
        "    alpha : float\n",
        "        Differential privacy parameter for the binary (randomized response) queries.\n",
        "    delta : float\n",
        "        Failure probability tolerated in the localization phase.\n",
        "    n : int\n",
        "        Number of users allocated to localization (should be n/2 of the total).\n",
        "    m : int\n",
        "        Number of samples per user.\n",
        "    user_samples : list of array-like\n",
        "        A list of length n, each entry an array-like of m real-valued samples for one user.\n",
        "\n",
        "    Returns:\n",
        "    -------\n",
        "    List :\n",
        "        [L,R] = The estimated interval that might contain true mean where L is the  lower and R is the upper bound.\n",
        "    \"\"\"\n",
        "    # Precomputing the probability of truthful response under randomized response\n",
        "    pi_alpha = np.exp(alpha) / (1 + np.exp(alpha))\n",
        "\n",
        "    # Computing group size b_max to balance accuracy and privacy\n",
        "    denom = np.log(2 * m / math.log(12)) - 2 * math.log(3 / 2)\n",
        "    b1 = (2 * n * np.log(3 / 2)) / denom\n",
        "    b2 = (2 / ((2 * pi_alpha - 1) ** 2)) * np.log(2 * n / delta)\n",
        "    b_max = int(math.ceil(max(b1, b2)))\n",
        "\n",
        "    # Maximum number of ternary-search rounds\n",
        "    t_max = n // b_max\n",
        "\n",
        "    # Initializing search interval [L, R]\n",
        "    L, R = -1.0, 1.0\n",
        "    p = pi_alpha\n",
        "\n",
        "    # Performing t_max iterations of private ternary search\n",
        "    for t in range(t_max):\n",
        "        # Length of each third\n",
        "        gamma = (R - L) / 3.0\n",
        "        I1_L, I1_R = L, L + gamma  # left interval\n",
        "        I3_L, I3_R = R - gamma, R  # right interval\n",
        "\n",
        "        # Initialize noisy counts for left and right intervals\n",
        "        V1_tilde = 0\n",
        "        V3_tilde = 0\n",
        "\n",
        "        # Process each user in the current group of size b_max\n",
        "        start = t * b_max\n",
        "        end = start + b_max\n",
        "        for x in user_samples[start:end]:\n",
        "            x_bar = np.mean(x)  # sample-mean for this user\n",
        "\n",
        "            # Determine true membership in I1 and I3\n",
        "            V1 = 1 if (I1_L <= x_bar <= I1_R) else 0\n",
        "            V3 = 1 if (I3_L <= x_bar <= I3_R) else 0\n",
        "\n",
        "            # Apply randomized response: truth with prob p, flip with prob 1-p\n",
        "            if np.random.rand() < p:\n",
        "                V1_tilde += V1\n",
        "                V3_tilde += V3\n",
        "            else:\n",
        "                V1_tilde += 1 - V1\n",
        "                V3_tilde += 1 - V3\n",
        "\n",
        "        # Discard the interval (I1 or I3) with smaller noisy count\n",
        "        if V1_tilde < V3_tilde:\n",
        "            # Drop the left third: shift L to the start of I2\n",
        "            L += gamma\n",
        "        else:\n",
        "            # Drop the right third: shift R to the end of I2\n",
        "            R -= gamma\n",
        "\n",
        "    # Final estimate of the interval containing true mean\n",
        "    return [L,R]\n",
        "\n"
      ],
      "metadata": {
        "id": "A0btOVxnhGSP"
      },
      "execution_count": 2,
      "outputs": []
    },
    {
      "cell_type": "markdown",
      "source": [
        "## DAME with Ternary Search"
      ],
      "metadata": {
        "id": "ACWJqeS7k80E"
      }
    },
    {
      "cell_type": "code",
      "source": [
        "def dame_with_ternary_search(n, alpha, m, user_samples):\n",
        "    \"\"\"\n",
        "    Implements DAME algorithm with ternary search localization and Laplace estimation.\n",
        "\n",
        "    Args:\n",
        "        n: number of users (integer, even)\n",
        "        alpha: privacy parameter\n",
        "        m: number of samples per user\n",
        "        user_samples: list or array of shape (n, m)\n",
        "    Returns:\n",
        "        bar_theta: aggregated estimator\n",
        "    \"\"\"\n",
        "    # Compute tau and delta\n",
        "    tau = (2 * math.log(max(8 * math.sqrt(m * n) * (alpha ** 2), 1))) / m\n",
        "    pi_alpha = math.exp(alpha) / (1 + math.exp(alpha))\n",
        "    delta = 2 * n * math.exp(-n * (2 * pi_alpha - 1)**2 / 2)\n",
        "\n",
        "    # Localization phase\n",
        "    # use first half of users for localization\n",
        "    X1 = user_samples[:int(n/2)]\n",
        "\n",
        "\n",
        "    # loc_samples = user_samples[:n//2]\n",
        "    theta_hat_loc = attempting_insertion_using_ternary_search(alpha, delta, n//2, m, X1)\n",
        "\n",
        "    # Estimation phase using second half\n",
        "    X2 = user_samples[int(n/2):]\n",
        "    # est_samples = user_samples[n//2:]\n",
        "\n",
        "    hat_thetas = []\n",
        "    scale = 14 * tau / alpha\n",
        "    for x in X2:\n",
        "        x_bar = np.mean(x)\n",
        "        if x_bar < theta_hat_loc[0]:\n",
        "            x_bar = theta_hat_loc[0]\n",
        "        if x_bar > theta_hat_loc[1]:\n",
        "            x_bar = theta_hat_loc[1]\n",
        "        noisy = x_bar + scale * np.random.laplace(0, 1)\n",
        "        hat_thetas.append(noisy)\n",
        "\n",
        "    # Aggregation\n",
        "    bar_theta = (2 / n) * sum(hat_thetas)\n",
        "    return bar_theta\n",
        "\n",
        "\n"
      ],
      "metadata": {
        "id": "zDZwWd7ZcnC4"
      },
      "execution_count": 4,
      "outputs": []
    },
    {
      "cell_type": "code",
      "source": [
        "np.random.seed(42)\n",
        "n = 100  # total users\n",
        "m = 50   # samples per user\n",
        "alpha = 0.5  # privacy parameter\n",
        "true_mean = 0.3\n",
        "\n",
        "# Generate user_samples with true_mean plus noise\n",
        "user_samples = [np.random.normal(loc=true_mean, scale=0.5, size=m) for _ in range(n)]\n",
        "\n"
      ],
      "metadata": {
        "id": "za3qfPy0k2gS"
      },
      "execution_count": 19,
      "outputs": []
    },
    {
      "cell_type": "code",
      "source": [
        "print(len(user_samples))"
      ],
      "metadata": {
        "colab": {
          "base_uri": "https://localhost:8080/"
        },
        "id": "Q5FrOz9z3f_n",
        "outputId": "13a052ec-0d4e-4427-e57c-34f361b441e6"
      },
      "execution_count": 20,
      "outputs": [
        {
          "output_type": "stream",
          "name": "stdout",
          "text": [
            "100\n"
          ]
        }
      ]
    },
    {
      "cell_type": "code",
      "source": [
        "# Run the algorithm\n",
        "bar_theta_estimate = dame_with_ternary_search(n, alpha, m, user_samples)\n",
        "\n",
        "print(bar_theta_estimate)"
      ],
      "metadata": {
        "colab": {
          "base_uri": "https://localhost:8080/"
        },
        "id": "zdYX7Z8J2f7j",
        "outputId": "165782cf-c254-46f9-b539-8dc7594991ad"
      },
      "execution_count": 21,
      "outputs": [
        {
          "output_type": "stream",
          "name": "stdout",
          "text": [
            "0.3241274254265732\n"
          ]
        }
      ]
    },
    {
      "cell_type": "code",
      "source": [],
      "metadata": {
        "id": "JxFaeTX13pCS"
      },
      "execution_count": null,
      "outputs": []
    }
  ]
}